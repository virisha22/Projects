{
 "cells": [
  {
   "cell_type": "code",
   "execution_count": 1,
   "metadata": {
    "collapsed": true
   },
   "outputs": [],
   "source": [
    "import sys\n",
    "import os\n",
    "import pandas as pd\n",
    "import numpy as np\n",
    "import matplotlib.pyplot as plt\n",
    "from gatspy import periodic"
   ]
  },
  {
   "cell_type": "code",
   "execution_count": 7,
   "metadata": {
    "collapsed": false
   },
   "outputs": [],
   "source": [
    "os.chdir('..')\n",
    "#Converting to csv format\n",
    "a = 'data/AllLCs' #path to the folder containing lightcurve data in '.dat' format\n",
    "for filename in os.listdir(a):\n",
    "       infilename = os.path.join(a,filename)\n",
    "       if not os.path.isfile(infilename): continue\n",
    "       oldbase = os.path.splitext(filename)\n",
    "       newname = infilename.replace('.dat', '.csv')\n",
    "       output = os.rename(infilename, newname)"
   ]
  },
  {
   "cell_type": "code",
   "execution_count": 8,
   "metadata": {
    "collapsed": false
   },
   "outputs": [
    {
     "data": {
      "text/html": [
       "<div>\n",
       "<table border=\"1\" class=\"dataframe\">\n",
       "  <thead>\n",
       "    <tr style=\"text-align: right;\">\n",
       "      <th></th>\n",
       "      <th>Time</th>\n",
       "      <th>Band</th>\n",
       "      <th>Magnitude</th>\n",
       "      <th>Error</th>\n",
       "    </tr>\n",
       "  </thead>\n",
       "  <tbody>\n",
       "    <tr>\n",
       "      <th>0</th>\n",
       "      <td>51075.298978</td>\n",
       "      <td>r</td>\n",
       "      <td>17.824</td>\n",
       "      <td>0.006</td>\n",
       "    </tr>\n",
       "    <tr>\n",
       "      <th>1</th>\n",
       "      <td>51075.299811</td>\n",
       "      <td>i</td>\n",
       "      <td>17.701</td>\n",
       "      <td>0.008</td>\n",
       "    </tr>\n",
       "    <tr>\n",
       "      <th>2</th>\n",
       "      <td>51075.300645</td>\n",
       "      <td>u</td>\n",
       "      <td>19.323</td>\n",
       "      <td>0.030</td>\n",
       "    </tr>\n",
       "    <tr>\n",
       "      <th>3</th>\n",
       "      <td>51075.301478</td>\n",
       "      <td>z</td>\n",
       "      <td>17.655</td>\n",
       "      <td>0.021</td>\n",
       "    </tr>\n",
       "    <tr>\n",
       "      <th>4</th>\n",
       "      <td>51075.302311</td>\n",
       "      <td>g</td>\n",
       "      <td>18.113</td>\n",
       "      <td>0.006</td>\n",
       "    </tr>\n",
       "  </tbody>\n",
       "</table>\n",
       "</div>"
      ],
      "text/plain": [
       "           Time Band  Magnitude  Error\n",
       "0  51075.298978    r     17.824  0.006\n",
       "1  51075.299811    i     17.701  0.008\n",
       "2  51075.300645    u     19.323  0.030\n",
       "3  51075.301478    z     17.655  0.021\n",
       "4  51075.302311    g     18.113  0.006"
      ]
     },
     "execution_count": 8,
     "metadata": {},
     "output_type": "execute_result"
    }
   ],
   "source": [
    "df = pd.read_csv('data/AllLCs/LC_13350.csv',header=None,sep=' ') #Load your light curve file as a csv\n",
    "#Cleaning the data\n",
    "df = df[df.ix[:,2] >= 0] \n",
    "df = df[~df.ix[:,0].str.contains(\"#\")]\n",
    "df.columns = ['Time','Band','Magnitude','Error'] #Adding column names\n",
    "df.head()"
   ]
  },
  {
   "cell_type": "code",
   "execution_count": 4,
   "metadata": {
    "collapsed": false
   },
   "outputs": [
    {
     "ename": "IOError",
     "evalue": "File stripe82-class-master/data/AllLCs/LC_13350.csv does not exist",
     "output_type": "error",
     "traceback": [
      "\u001b[0;31m---------------------------------------------------------------------------\u001b[0m",
      "\u001b[0;31mIOError\u001b[0m                                   Traceback (most recent call last)",
      "\u001b[0;32m<ipython-input-4-93ba6e5327ed>\u001b[0m in \u001b[0;36m<module>\u001b[0;34m()\u001b[0m\n\u001b[1;32m      8\u001b[0m \u001b[0;34m\u001b[0m\u001b[0m\n\u001b[1;32m      9\u001b[0m \u001b[0;34m\u001b[0m\u001b[0m\n\u001b[0;32m---> 10\u001b[0;31m \u001b[0mdf\u001b[0m \u001b[0;34m=\u001b[0m \u001b[0mpd\u001b[0m\u001b[0;34m.\u001b[0m\u001b[0mread_csv\u001b[0m\u001b[0;34m(\u001b[0m\u001b[0;34m'stripe82-class-master/data/AllLCs/LC_13350.csv'\u001b[0m\u001b[0;34m,\u001b[0m  \u001b[0mheader\u001b[0m\u001b[0;34m=\u001b[0m\u001b[0mNone\u001b[0m\u001b[0;34m,\u001b[0m\u001b[0msep\u001b[0m\u001b[0;34m=\u001b[0m\u001b[0;34m' '\u001b[0m\u001b[0;34m)\u001b[0m \u001b[0;31m#Load your light curve file as a csv\u001b[0m\u001b[0;34m\u001b[0m\u001b[0m\n\u001b[0m\u001b[1;32m     11\u001b[0m \u001b[0;31m#Cleaning the data\u001b[0m\u001b[0;34m\u001b[0m\u001b[0;34m\u001b[0m\u001b[0m\n\u001b[1;32m     12\u001b[0m \u001b[0mdf\u001b[0m \u001b[0;34m=\u001b[0m \u001b[0mdf\u001b[0m\u001b[0;34m[\u001b[0m\u001b[0mdf\u001b[0m\u001b[0;34m.\u001b[0m\u001b[0mix\u001b[0m\u001b[0;34m[\u001b[0m\u001b[0;34m:\u001b[0m\u001b[0;34m,\u001b[0m\u001b[0;36m2\u001b[0m\u001b[0;34m]\u001b[0m \u001b[0;34m>=\u001b[0m \u001b[0;36m0\u001b[0m\u001b[0;34m]\u001b[0m\u001b[0;34m\u001b[0m\u001b[0m\n",
      "\u001b[0;32m/Users/virishatimmaraju/anaconda/lib/python2.7/site-packages/pandas/io/parsers.pyc\u001b[0m in \u001b[0;36mparser_f\u001b[0;34m(filepath_or_buffer, sep, delimiter, header, names, index_col, usecols, squeeze, prefix, mangle_dupe_cols, dtype, engine, converters, true_values, false_values, skipinitialspace, skiprows, skipfooter, nrows, na_values, keep_default_na, na_filter, verbose, skip_blank_lines, parse_dates, infer_datetime_format, keep_date_col, date_parser, dayfirst, iterator, chunksize, compression, thousands, decimal, lineterminator, quotechar, quoting, escapechar, comment, encoding, dialect, tupleize_cols, error_bad_lines, warn_bad_lines, skip_footer, doublequote, delim_whitespace, as_recarray, compact_ints, use_unsigned, low_memory, buffer_lines, memory_map, float_precision)\u001b[0m\n\u001b[1;32m    560\u001b[0m                     skip_blank_lines=skip_blank_lines)\n\u001b[1;32m    561\u001b[0m \u001b[0;34m\u001b[0m\u001b[0m\n\u001b[0;32m--> 562\u001b[0;31m         \u001b[0;32mreturn\u001b[0m \u001b[0m_read\u001b[0m\u001b[0;34m(\u001b[0m\u001b[0mfilepath_or_buffer\u001b[0m\u001b[0;34m,\u001b[0m \u001b[0mkwds\u001b[0m\u001b[0;34m)\u001b[0m\u001b[0;34m\u001b[0m\u001b[0m\n\u001b[0m\u001b[1;32m    563\u001b[0m \u001b[0;34m\u001b[0m\u001b[0m\n\u001b[1;32m    564\u001b[0m     \u001b[0mparser_f\u001b[0m\u001b[0;34m.\u001b[0m\u001b[0m__name__\u001b[0m \u001b[0;34m=\u001b[0m \u001b[0mname\u001b[0m\u001b[0;34m\u001b[0m\u001b[0m\n",
      "\u001b[0;32m/Users/virishatimmaraju/anaconda/lib/python2.7/site-packages/pandas/io/parsers.pyc\u001b[0m in \u001b[0;36m_read\u001b[0;34m(filepath_or_buffer, kwds)\u001b[0m\n\u001b[1;32m    313\u001b[0m \u001b[0;34m\u001b[0m\u001b[0m\n\u001b[1;32m    314\u001b[0m     \u001b[0;31m# Create the parser.\u001b[0m\u001b[0;34m\u001b[0m\u001b[0;34m\u001b[0m\u001b[0m\n\u001b[0;32m--> 315\u001b[0;31m     \u001b[0mparser\u001b[0m \u001b[0;34m=\u001b[0m \u001b[0mTextFileReader\u001b[0m\u001b[0;34m(\u001b[0m\u001b[0mfilepath_or_buffer\u001b[0m\u001b[0;34m,\u001b[0m \u001b[0;34m**\u001b[0m\u001b[0mkwds\u001b[0m\u001b[0;34m)\u001b[0m\u001b[0;34m\u001b[0m\u001b[0m\n\u001b[0m\u001b[1;32m    316\u001b[0m \u001b[0;34m\u001b[0m\u001b[0m\n\u001b[1;32m    317\u001b[0m     \u001b[0;32mif\u001b[0m \u001b[0;34m(\u001b[0m\u001b[0mnrows\u001b[0m \u001b[0;32mis\u001b[0m \u001b[0;32mnot\u001b[0m \u001b[0mNone\u001b[0m\u001b[0;34m)\u001b[0m \u001b[0;32mand\u001b[0m \u001b[0;34m(\u001b[0m\u001b[0mchunksize\u001b[0m \u001b[0;32mis\u001b[0m \u001b[0;32mnot\u001b[0m \u001b[0mNone\u001b[0m\u001b[0;34m)\u001b[0m\u001b[0;34m:\u001b[0m\u001b[0;34m\u001b[0m\u001b[0m\n",
      "\u001b[0;32m/Users/virishatimmaraju/anaconda/lib/python2.7/site-packages/pandas/io/parsers.pyc\u001b[0m in \u001b[0;36m__init__\u001b[0;34m(self, f, engine, **kwds)\u001b[0m\n\u001b[1;32m    643\u001b[0m             \u001b[0mself\u001b[0m\u001b[0;34m.\u001b[0m\u001b[0moptions\u001b[0m\u001b[0;34m[\u001b[0m\u001b[0;34m'has_index_names'\u001b[0m\u001b[0;34m]\u001b[0m \u001b[0;34m=\u001b[0m \u001b[0mkwds\u001b[0m\u001b[0;34m[\u001b[0m\u001b[0;34m'has_index_names'\u001b[0m\u001b[0;34m]\u001b[0m\u001b[0;34m\u001b[0m\u001b[0m\n\u001b[1;32m    644\u001b[0m \u001b[0;34m\u001b[0m\u001b[0m\n\u001b[0;32m--> 645\u001b[0;31m         \u001b[0mself\u001b[0m\u001b[0;34m.\u001b[0m\u001b[0m_make_engine\u001b[0m\u001b[0;34m(\u001b[0m\u001b[0mself\u001b[0m\u001b[0;34m.\u001b[0m\u001b[0mengine\u001b[0m\u001b[0;34m)\u001b[0m\u001b[0;34m\u001b[0m\u001b[0m\n\u001b[0m\u001b[1;32m    646\u001b[0m \u001b[0;34m\u001b[0m\u001b[0m\n\u001b[1;32m    647\u001b[0m     \u001b[0;32mdef\u001b[0m \u001b[0mclose\u001b[0m\u001b[0;34m(\u001b[0m\u001b[0mself\u001b[0m\u001b[0;34m)\u001b[0m\u001b[0;34m:\u001b[0m\u001b[0;34m\u001b[0m\u001b[0m\n",
      "\u001b[0;32m/Users/virishatimmaraju/anaconda/lib/python2.7/site-packages/pandas/io/parsers.pyc\u001b[0m in \u001b[0;36m_make_engine\u001b[0;34m(self, engine)\u001b[0m\n\u001b[1;32m    797\u001b[0m     \u001b[0;32mdef\u001b[0m \u001b[0m_make_engine\u001b[0m\u001b[0;34m(\u001b[0m\u001b[0mself\u001b[0m\u001b[0;34m,\u001b[0m \u001b[0mengine\u001b[0m\u001b[0;34m=\u001b[0m\u001b[0;34m'c'\u001b[0m\u001b[0;34m)\u001b[0m\u001b[0;34m:\u001b[0m\u001b[0;34m\u001b[0m\u001b[0m\n\u001b[1;32m    798\u001b[0m         \u001b[0;32mif\u001b[0m \u001b[0mengine\u001b[0m \u001b[0;34m==\u001b[0m \u001b[0;34m'c'\u001b[0m\u001b[0;34m:\u001b[0m\u001b[0;34m\u001b[0m\u001b[0m\n\u001b[0;32m--> 799\u001b[0;31m             \u001b[0mself\u001b[0m\u001b[0;34m.\u001b[0m\u001b[0m_engine\u001b[0m \u001b[0;34m=\u001b[0m \u001b[0mCParserWrapper\u001b[0m\u001b[0;34m(\u001b[0m\u001b[0mself\u001b[0m\u001b[0;34m.\u001b[0m\u001b[0mf\u001b[0m\u001b[0;34m,\u001b[0m \u001b[0;34m**\u001b[0m\u001b[0mself\u001b[0m\u001b[0;34m.\u001b[0m\u001b[0moptions\u001b[0m\u001b[0;34m)\u001b[0m\u001b[0;34m\u001b[0m\u001b[0m\n\u001b[0m\u001b[1;32m    800\u001b[0m         \u001b[0;32melse\u001b[0m\u001b[0;34m:\u001b[0m\u001b[0;34m\u001b[0m\u001b[0m\n\u001b[1;32m    801\u001b[0m             \u001b[0;32mif\u001b[0m \u001b[0mengine\u001b[0m \u001b[0;34m==\u001b[0m \u001b[0;34m'python'\u001b[0m\u001b[0;34m:\u001b[0m\u001b[0;34m\u001b[0m\u001b[0m\n",
      "\u001b[0;32m/Users/virishatimmaraju/anaconda/lib/python2.7/site-packages/pandas/io/parsers.pyc\u001b[0m in \u001b[0;36m__init__\u001b[0;34m(self, src, **kwds)\u001b[0m\n\u001b[1;32m   1211\u001b[0m         \u001b[0mkwds\u001b[0m\u001b[0;34m[\u001b[0m\u001b[0;34m'allow_leading_cols'\u001b[0m\u001b[0;34m]\u001b[0m \u001b[0;34m=\u001b[0m \u001b[0mself\u001b[0m\u001b[0;34m.\u001b[0m\u001b[0mindex_col\u001b[0m \u001b[0;32mis\u001b[0m \u001b[0;32mnot\u001b[0m \u001b[0mFalse\u001b[0m\u001b[0;34m\u001b[0m\u001b[0m\n\u001b[1;32m   1212\u001b[0m \u001b[0;34m\u001b[0m\u001b[0m\n\u001b[0;32m-> 1213\u001b[0;31m         \u001b[0mself\u001b[0m\u001b[0;34m.\u001b[0m\u001b[0m_reader\u001b[0m \u001b[0;34m=\u001b[0m \u001b[0m_parser\u001b[0m\u001b[0;34m.\u001b[0m\u001b[0mTextReader\u001b[0m\u001b[0;34m(\u001b[0m\u001b[0msrc\u001b[0m\u001b[0;34m,\u001b[0m \u001b[0;34m**\u001b[0m\u001b[0mkwds\u001b[0m\u001b[0;34m)\u001b[0m\u001b[0;34m\u001b[0m\u001b[0m\n\u001b[0m\u001b[1;32m   1214\u001b[0m \u001b[0;34m\u001b[0m\u001b[0m\n\u001b[1;32m   1215\u001b[0m         \u001b[0;31m# XXX\u001b[0m\u001b[0;34m\u001b[0m\u001b[0;34m\u001b[0m\u001b[0m\n",
      "\u001b[0;32mpandas/parser.pyx\u001b[0m in \u001b[0;36mpandas.parser.TextReader.__cinit__ (pandas/parser.c:3427)\u001b[0;34m()\u001b[0m\n",
      "\u001b[0;32mpandas/parser.pyx\u001b[0m in \u001b[0;36mpandas.parser.TextReader._setup_parser_source (pandas/parser.c:6861)\u001b[0;34m()\u001b[0m\n",
      "\u001b[0;31mIOError\u001b[0m: File stripe82-class-master/data/AllLCs/LC_13350.csv does not exist"
     ]
    }
   ],
   "source": [
    "#Color Extraction\n",
    "grouped = df.groupby('Band')\n",
    "grouped.size()\n",
    "df2 = grouped.mean() #mean values of band magnitudes and their errors\n",
    "df2\n",
    "\n",
    "\n",
    "# ### Method-1: Calculating u-g,g-r,r-i,i-z as colors\n",
    "# #### Reference: http://cas.sdss.org/dr2/en/proj/basic/color/definition.asp\n",
    "\n",
    "ug = df2.ix[3].subtract(df2.ix[0])\n",
    "gr = df2.ix[0].subtract(df2.ix[2])\n",
    "ri = df2.ix[2].subtract(df2.ix[1])\n",
    "iz = df2.ix[1].subtract(df2.ix[4])\n",
    "print ug,gr,ri,iz\n",
    "\n",
    "\n",
    "# ### Method-2: The band with lowest mean magnitude (highest brightness)\n",
    "# #### Reference: http://skyserver.sdss.org/dr1/en/proj/advanced/color/sdssfilters.asp\n",
    "\n",
    "df2['Wavelength in Angstroms'] = ['4770','7625','6231','3543','9134']\n",
    "df2['Magnitude'].argmin() \n",
    "\n",
    "fig = plt.figure(figsize=(14, 5))\n",
    "gs = plt.GridSpec(4, 3, left=0.10, right=0.95, bottom=0.15,\n",
    "                  wspace=0.3, hspace=0.6)\n",
    "ax = [fig.add_subplot(gs[:, 0])]\n",
    "\n",
    "ax[0].errorbar(df2.ix[:,2], df2.ix[:,0], yerr=df2.ix[:,1],fmt='.')\n",
    "ax[0].set_ylim(19.5, 17.6)\n",
    "ax[0].set_xlabel('Band Wavelength')\n",
    "ax[0].set_ylabel('Band Magnitude')\n",
    "plt.show()\n",
    "\n",
    "\n",
    "#Period estimation for a single lightcurve file \n",
    "time = map(float,df.ix[:,0].values) \n",
    "mags = map(float,df.ix[:,2].values)\n",
    "dmags = map(float,df.ix[:,3].values)\n",
    "filters = df.ix[:,1].values\n",
    "\n",
    "\n",
    "#sys.stdout = open(os.devnull,\"w\") #To prevent printing intermediate results by in-built functions\n",
    "ls = periodic.LombScargleMultiband(fit_period=True); #For finding periodicity in irregularly sampled multiband data\n",
    "ls.optimizer.period_range = (0.2, 1.0)\n",
    "ls.fit(time,mags,dmags,filters)\n",
    "period = ls.best_period\n",
    "#sys.stdout = sys.__stdout__\n",
    "print period \n",
    "\n",
    "#Plotting the folded light curves for each band\n",
    "fig = plt.figure(figsize=(14, 5))\n",
    "gs = plt.GridSpec(5, 2, left=0.10, right=0.95, bottom=0.15,\n",
    "                  wspace=0.3, hspace=0.6)\n",
    "ax = [fig.add_subplot(gs[:, 0])]\n",
    "\n",
    "for band, mask in zip('ugriz', masks):\n",
    "    ax[0].errorbar(foldTimes[mask], mags[mask], yerr=dmags[mask],fmt='.',label=band)\n",
    "\n",
    "ax[0].set_ylim(20, 17)\n",
    "ax[0].legend(loc='lower right', fontsize=8, ncol=3)\n",
    "ax[0].set_title('Folded Data', fontsize=12)\n",
    "ax[0].set_xlabel('phase')\n",
    "ax[0].set_ylabel('magnitude')\n",
    "plt.show()"
   ]
  },
  {
   "cell_type": "code",
   "execution_count": null,
   "metadata": {
    "collapsed": false
   },
   "outputs": [],
   "source": [
    "import sys\n",
    "import os\n",
    "import pandas as pd\n",
    "import numpy as np\n",
    "from gatspy import periodic\n",
    "\n",
    "df = pd.read_csv('Desktop/stripe82-class-master/data/AllLCs/LC_13350.csv',header=None,sep=' ')\n",
    "df = df[df.ix[:,2] >= 0]\n",
    "df.head()\n"
   ]
  },
  {
   "cell_type": "code",
   "execution_count": null,
   "metadata": {
    "collapsed": false
   },
   "outputs": [],
   "source": [
    "time = np.array(map(float,df.ix[:,0].values))\n",
    "mags = np.array(map(float,df.ix[:,2].values))\n",
    "dmags = np.array(map(float,df.ix[:,3].values))\n",
    "filters = np.array(df.ix[:,1].values)\n",
    "masks = [(filters == band) for band in 'ugriz']\n"
   ]
  },
  {
   "cell_type": "code",
   "execution_count": null,
   "metadata": {
    "collapsed": false
   },
   "outputs": [],
   "source": [
    "#sys.stdout = open(os.devnull,\"w\") #To prevent printing intermediate results by in-built functions\n",
    "ls = periodic.LombScargleMultiband(fit_period=True); #For finding periodicity in irregularly sampled data\n",
    "ls.optimizer.period_range = (0.1, 1.0);\n",
    "ls.fit(time,mags,dmags,filters);\n",
    "period = ls.best_period;\n",
    "#sys.stdout = sys.__stdout__\n",
    "print period\n",
    " \n"
   ]
  },
  {
   "cell_type": "code",
   "execution_count": null,
   "metadata": {
    "collapsed": false
   },
   "outputs": [],
   "source": [
    "#Calculating the phase\n",
    "foldTimes = time/period\n",
    "foldTimes = foldTimes % 1\n",
    "foldTimes = np.array(foldTimes)"
   ]
  },
  {
   "cell_type": "code",
   "execution_count": null,
   "metadata": {
    "collapsed": false
   },
   "outputs": [],
   "source": [
    "#Plotting the folded light curves for each band\n",
    "fig = plt.figure(figsize=(14, 5))\n",
    "gs = plt.GridSpec(5, 2, left=0.10, right=0.95, bottom=0.15,\n",
    "                  wspace=0.3, hspace=0.6)\n",
    "ax = [fig.add_subplot(gs[:, 0])]\n",
    "\n",
    "for band, mask in zip('ugriz', masks):\n",
    "    ax[0].errorbar(foldTimes[mask], mags[mask], yerr=dmags[mask],fmt='.',label=band)\n",
    "\n",
    "ax[0].set_ylim(20, 17)\n",
    "ax[0].legend(loc='lower right', fontsize=8, ncol=3)\n",
    "ax[0].set_title('Folded Data', fontsize=12)\n",
    "ax[0].set_xlabel('phase')\n",
    "ax[0].set_ylabel('magnitude')\n",
    "plt.show()"
   ]
  }
 ],
 "metadata": {
  "anaconda-cloud": {},
  "kernelspec": {
   "display_name": "Python [conda root]",
   "language": "python",
   "name": "conda-root-py"
  },
  "language_info": {
   "codemirror_mode": {
    "name": "ipython",
    "version": 2
   },
   "file_extension": ".py",
   "mimetype": "text/x-python",
   "name": "python",
   "nbconvert_exporter": "python",
   "pygments_lexer": "ipython2",
   "version": "2.7.12"
  }
 },
 "nbformat": 4,
 "nbformat_minor": 1
}
