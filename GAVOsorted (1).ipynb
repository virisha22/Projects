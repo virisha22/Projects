{
 "cells": [
  {
   "cell_type": "code",
   "execution_count": 44,
   "metadata": {
    "collapsed": false
   },
   "outputs": [],
   "source": [
    "## Sorting an astronomical catalog, GAVO, for further processing\n",
    "import csv\n",
    "import math as m\n",
    "import numpy as np\n",
    "import pandas as pd\n",
    "fields = ['ID','confirmed','ra','decl','pmra','pmdec']\n",
    "df = pd.read_csv('gavo.csv',skipinitialspace=True, usecols=fields)\n",
    "df.to_csv('out.csv')\n",
    "df['cosdec']= df['decl'].map(np.cos)\n",
    "df['pmra2']= df.pmra*df.pmra*df.cosdec*df.cosdec\n",
    "df['pmdec2']= df.pmdec*df.pmdec\n",
    "df['pm2']= df.pmra2 + df.pmdec2\n",
    "df['pmdeg']= df['pm2'].map(np.sqrt)\n",
    "myint=3600\n",
    "df['pmarc']= df['pmdeg']*myint\n",
    "df.to_csv('gavosorted.csv')\n",
    "\n",
    "\n"
   ]
  }
 ],
 "metadata": {
  "anaconda-cloud": {},
  "kernelspec": {
   "display_name": "Python [conda root]",
   "language": "python",
   "name": "conda-root-py"
  },
  "language_info": {
   "codemirror_mode": {
    "name": "ipython",
    "version": 2
   },
   "file_extension": ".py",
   "mimetype": "text/x-python",
   "name": "python",
   "nbconvert_exporter": "python",
   "pygments_lexer": "ipython2",
   "version": "2.7.12"
  }
 },
 "nbformat": 4,
 "nbformat_minor": 1
}
